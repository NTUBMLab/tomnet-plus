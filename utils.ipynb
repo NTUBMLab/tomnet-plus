{
 "cells": [
  {
   "cell_type": "code",
   "execution_count": null,
   "metadata": {},
   "outputs": [],
   "source": [
    "import numpy as np\n",
    "import matplotlib.pyplot as plt\n",
    "from mpl_toolkits.mplot3d import Axes3D\n",
    "\n",
    "def plot_trajectory(name, tensor, save=False):\n",
    "    i = 1\n",
    "    for step in tensor[:]:\n",
    "        if np.count_nonzero(step) > 0:\n",
    "            z,x,y = step.nonzero()\n",
    "            fig = plt.figure()\n",
    "            ax = fig.add_subplot(111, projection='3d')\n",
    "            ax.scatter(x, y, -z, c=y, zdir='z', cmap='rainbow')\n",
    "            ax.view_init(elev=0, azim=-90)\n",
    "            if save:\n",
    "                plt.savefig(name + '_' + str(i) + '.png')\n",
    "            else:\n",
    "                plt.show()\n",
    "            i += 1\n"
   ]
  }
 ],
 "metadata": {
  "kernelspec": {
   "display_name": "Python 3",
   "language": "python",
   "name": "python3"
  },
  "language_info": {
   "codemirror_mode": {
    "name": "ipython",
    "version": 3
   },
   "file_extension": ".py",
   "mimetype": "text/x-python",
   "name": "python",
   "nbconvert_exporter": "python",
   "pygments_lexer": "ipython3",
   "version": "3.7.1"
  }
 },
 "nbformat": 4,
 "nbformat_minor": 2
}
